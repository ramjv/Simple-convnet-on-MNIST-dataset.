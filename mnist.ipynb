{
  "nbformat": 4,
  "nbformat_minor": 0,
  "metadata": {
    "colab": {
      "name": "Untitled0.ipynb",
      "provenance": [],
      "collapsed_sections": [],
      "authorship_tag": "ABX9TyPM9eVGyHwkS1/5qKAPLrSw",
      "include_colab_link": true
    },
    "kernelspec": {
      "name": "python3",
      "display_name": "Python 3"
    }
  },
  "cells": [
    {
      "cell_type": "markdown",
      "metadata": {
        "id": "view-in-github",
        "colab_type": "text"
      },
      "source": [
        "<a href=\"https://colab.research.google.com/github/ramjv/Simple-convnet-on-MNIST-dataset./blob/master/mnist.ipynb\" target=\"_parent\"><img src=\"https://colab.research.google.com/assets/colab-badge.svg\" alt=\"Open In Colab\"/></a>"
      ]
    },
    {
      "cell_type": "code",
      "metadata": {
        "id": "xJXoO86EyG_v",
        "colab_type": "code",
        "colab": {}
      },
      "source": [
        "#import packages\n",
        "import numpy as np\n",
        "import matplotlib.pyplot as plt\n",
        "import tensorflow \n",
        "from tensorflow.keras.models import Sequential\n",
        "from tensorflow.keras.layers import Conv2D,Dense,Flatten,MaxPooling2D,Dropout\n",
        "from tensorflow.keras.datasets import mnist\n",
        "from tensorflow.keras.utils import to_categorical"
      ],
      "execution_count": 0,
      "outputs": []
    },
    {
      "cell_type": "code",
      "metadata": {
        "id": "UuWR5lNF0G-1",
        "colab_type": "code",
        "colab": {}
      },
      "source": [
        "#constants\n",
        "batch_size = 128\n",
        "num_classes = 10\n",
        "epochs = 12"
      ],
      "execution_count": 0,
      "outputs": []
    },
    {
      "cell_type": "code",
      "metadata": {
        "id": "Br6_UFzv0W1n",
        "colab_type": "code",
        "colab": {
          "base_uri": "https://localhost:8080/",
          "height": 185
        },
        "outputId": "36a6a969-bf34-445f-c9fc-080ed8b400b5"
      },
      "source": [
        "#import data\n",
        "(x_train,y_train),(x_test,y_test) = mnist.load_data()\n",
        "\n",
        "#check the shape and dtype of data\n",
        "print(x_train.shape)\n",
        "print(y_train.shape)\n",
        "print(x_test.shape)\n",
        "print(y_test.shape)\n",
        "\n",
        "print(x_train.dtype)\n",
        "print(y_train.dtype)\n",
        "print(x_test.dtype)\n",
        "print(y_test.dtype)\n",
        "\n",
        "img_rows, img_cols = 28, 28\n",
        "input_shape = (img_rows, img_cols, 1)\n",
        "\n",
        "#reshape data\n",
        "x_train = x_train.reshape(len(x_train),img_rows,img_cols,1)\n",
        "x_test = x_test.reshape(len(x_test),img_rows,img_cols,1)\n",
        "\n",
        "print(x_train.shape)\n",
        "print(x_test.shape)\n",
        "\n",
        "#dtype cast\n",
        "x_train = x_train.astype('float32')\n",
        "x_test = x_test.astype('float32')\n",
        "\n",
        "#Normalization\n",
        "x_train /= 255\n",
        "x_test /= 255\n",
        "\n",
        "#categorical\n",
        "y_train = to_categorical(y_train,num_classes)\n",
        "y_test = to_categorical(y_test,num_classes)\n"
      ],
      "execution_count": 37,
      "outputs": [
        {
          "output_type": "stream",
          "text": [
            "(60000, 28, 28)\n",
            "(60000,)\n",
            "(10000, 28, 28)\n",
            "(10000,)\n",
            "uint8\n",
            "uint8\n",
            "uint8\n",
            "uint8\n",
            "(60000, 28, 28, 1)\n",
            "(10000, 28, 28, 1)\n"
          ],
          "name": "stdout"
        }
      ]
    },
    {
      "cell_type": "code",
      "metadata": {
        "id": "ezHkoTwT5qRn",
        "colab_type": "code",
        "colab": {
          "base_uri": "https://localhost:8080/",
          "height": 454
        },
        "outputId": "78c48083-09d5-4389-e5ed-a91286ade435"
      },
      "source": [
        "#Modelling\n",
        "\n",
        "model = Sequential()\n",
        "model.add(Conv2D(32,kernel_size=(3,3),activation='relu',input_shape=input_shape))\n",
        "\n",
        "model.add(Conv2D(64,kernel_size=(3,3),activation='relu'))\n",
        "model.add(MaxPooling2D(pool_size=(2,2)))\n",
        "model.add(Dropout(0.25))\n",
        "model.add(Flatten())\n",
        "model.add(Dense(128,activation='relu'))\n",
        "model.add(Dropout(0.5))\n",
        "model.add(Dense(num_classes,activation='softmax'))\n",
        "\n",
        "model.compile(loss=tensorflow.keras.losses.categorical_crossentropy,optimizer = tensorflow.keras.optimizers.Adadelta(),metrics=['accuracy'])\n",
        "model.fit(x_train, y_train,\n",
        "          batch_size=batch_size,\n",
        "          epochs=epochs,\n",
        "          verbose=1,\n",
        "          validation_data=(x_test, y_test))\n",
        "score = model.evaluate(x_test, y_test, verbose=0)\n",
        "print('Test loss:', score[0])\n",
        "print('Test accuracy:', score[1])"
      ],
      "execution_count": 38,
      "outputs": [
        {
          "output_type": "stream",
          "text": [
            "Epoch 1/12\n",
            "469/469 [==============================] - 5s 11ms/step - loss: 2.2883 - accuracy: 0.1252 - val_loss: 2.2572 - val_accuracy: 0.2695\n",
            "Epoch 2/12\n",
            "469/469 [==============================] - 5s 10ms/step - loss: 2.2409 - accuracy: 0.2294 - val_loss: 2.1996 - val_accuracy: 0.5021\n",
            "Epoch 3/12\n",
            "469/469 [==============================] - 5s 10ms/step - loss: 2.1796 - accuracy: 0.3449 - val_loss: 2.1184 - val_accuracy: 0.6550\n",
            "Epoch 4/12\n",
            "469/469 [==============================] - 5s 10ms/step - loss: 2.0935 - accuracy: 0.4390 - val_loss: 2.0054 - val_accuracy: 0.7219\n",
            "Epoch 5/12\n",
            "469/469 [==============================] - 5s 10ms/step - loss: 1.9762 - accuracy: 0.4981 - val_loss: 1.8510 - val_accuracy: 0.7479\n",
            "Epoch 6/12\n",
            "469/469 [==============================] - 5s 10ms/step - loss: 1.8210 - accuracy: 0.5525 - val_loss: 1.6555 - val_accuracy: 0.7669\n",
            "Epoch 7/12\n",
            "469/469 [==============================] - 5s 10ms/step - loss: 1.6452 - accuracy: 0.5894 - val_loss: 1.4398 - val_accuracy: 0.7785\n",
            "Epoch 8/12\n",
            "469/469 [==============================] - 5s 10ms/step - loss: 1.4637 - accuracy: 0.6189 - val_loss: 1.2331 - val_accuracy: 0.7904\n",
            "Epoch 9/12\n",
            "469/469 [==============================] - 5s 10ms/step - loss: 1.3023 - accuracy: 0.6450 - val_loss: 1.0582 - val_accuracy: 0.8028\n",
            "Epoch 10/12\n",
            "469/469 [==============================] - 5s 10ms/step - loss: 1.1707 - accuracy: 0.6695 - val_loss: 0.9208 - val_accuracy: 0.8133\n",
            "Epoch 11/12\n",
            "469/469 [==============================] - 5s 10ms/step - loss: 1.0684 - accuracy: 0.6918 - val_loss: 0.8171 - val_accuracy: 0.8242\n",
            "Epoch 12/12\n",
            "469/469 [==============================] - 5s 10ms/step - loss: 0.9863 - accuracy: 0.7067 - val_loss: 0.7380 - val_accuracy: 0.8339\n",
            "Test loss: 0.7393113374710083\n",
            "Test accuracy: 0.833899974822998\n"
          ],
          "name": "stdout"
        }
      ]
    }
  ]
}
