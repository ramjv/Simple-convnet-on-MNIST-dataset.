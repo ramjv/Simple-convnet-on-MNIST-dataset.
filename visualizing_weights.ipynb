{
  "nbformat": 4,
  "nbformat_minor": 0,
  "metadata": {
    "colab": {
      "name": "Untitled0.ipynb",
      "provenance": [],
      "collapsed_sections": [],
      "include_colab_link": true
    },
    "kernelspec": {
      "name": "python3",
      "display_name": "Python 3"
    },
    "accelerator": "GPU"
  },
  "cells": [
    {
      "cell_type": "markdown",
      "metadata": {
        "id": "view-in-github",
        "colab_type": "text"
      },
      "source": [
        "<a href=\"https://colab.research.google.com/github/ramjv/Simple-convnet-on-MNIST-dataset./blob/master/visualizing_weights.ipynb\" target=\"_parent\"><img src=\"https://colab.research.google.com/assets/colab-badge.svg\" alt=\"Open In Colab\"/></a>"
      ]
    },
    {
      "cell_type": "code",
      "metadata": {
        "id": "xJXoO86EyG_v",
        "colab_type": "code",
        "colab": {}
      },
      "source": [
        "#import packages\n",
        "import numpy as np\n",
        "import matplotlib.pyplot as plt\n",
        "import tensorflow \n",
        "from tensorflow.keras.models import Sequential\n",
        "from tensorflow.keras.layers import Conv2D,Dense,Flatten,MaxPooling2D,Dropout\n",
        "from tensorflow.keras.datasets import mnist\n",
        "from tensorflow.keras.utils import to_categorical"
      ],
      "execution_count": 0,
      "outputs": []
    },
    {
      "cell_type": "code",
      "metadata": {
        "id": "UuWR5lNF0G-1",
        "colab_type": "code",
        "colab": {}
      },
      "source": [
        "#constants\n",
        "batch_size = 128\n",
        "num_classes = 10\n",
        "epochs = 12"
      ],
      "execution_count": 0,
      "outputs": []
    },
    {
      "cell_type": "code",
      "metadata": {
        "id": "Br6_UFzv0W1n",
        "colab_type": "code",
        "outputId": "dad670bc-c867-4dc3-f9bb-c12f1c040130",
        "colab": {
          "base_uri": "https://localhost:8080/",
          "height": 185
        }
      },
      "source": [
        "#import data\n",
        "(x_train,y_train),(x_test,y_test) = mnist.load_data()\n",
        "\n",
        "#check the shape and dtype of data\n",
        "print(x_train.shape)\n",
        "print(y_train.shape)\n",
        "print(x_test.shape)\n",
        "print(y_test.shape)\n",
        "\n",
        "print(x_train.dtype)\n",
        "print(y_train.dtype)\n",
        "print(x_test.dtype)\n",
        "print(y_test.dtype)\n",
        "\n",
        "img_rows, img_cols = 28, 28\n",
        "input_shape = (img_rows, img_cols, 1)\n",
        "\n",
        "#reshape data\n",
        "x_train = x_train.reshape(len(x_train),img_rows,img_cols,1)\n",
        "x_test = x_test.reshape(len(x_test),img_rows,img_cols,1)\n",
        "\n",
        "print(x_train.shape)\n",
        "print(x_test.shape)\n",
        "\n",
        "#dtype cast\n",
        "x_train = x_train.astype('float32')\n",
        "x_test = x_test.astype('float32')\n",
        "\n",
        "#Normalization\n",
        "x_train /= 255\n",
        "x_test /= 255\n",
        "\n",
        "#categorical\n",
        "y_train = to_categorical(y_train,num_classes)\n",
        "y_test = to_categorical(y_test,num_classes)\n"
      ],
      "execution_count": 14,
      "outputs": [
        {
          "output_type": "stream",
          "text": [
            "(60000, 28, 28)\n",
            "(60000,)\n",
            "(10000, 28, 28)\n",
            "(10000,)\n",
            "uint8\n",
            "uint8\n",
            "uint8\n",
            "uint8\n",
            "(60000, 28, 28, 1)\n",
            "(10000, 28, 28, 1)\n"
          ],
          "name": "stdout"
        }
      ]
    },
    {
      "cell_type": "code",
      "metadata": {
        "id": "ezHkoTwT5qRn",
        "colab_type": "code",
        "outputId": "8ecbddec-291b-4bee-b7c9-441049a5eb51",
        "colab": {
          "base_uri": "https://localhost:8080/",
          "height": 454
        }
      },
      "source": [
        "#Modelling\n",
        "\n",
        "model = Sequential()\n",
        "model.add(Conv2D(32,kernel_size=(3,3),activation='relu',input_shape=input_shape))\n",
        "\n",
        "model.add(Conv2D(64,kernel_size=(3,3),activation='relu'))\n",
        "model.add(MaxPooling2D(pool_size=(2,2)))\n",
        "model.add(Dropout(0.25))\n",
        "model.add(Flatten())\n",
        "model.add(Dense(128,activation='relu'))\n",
        "model.add(Dropout(0.5))\n",
        "model.add(Dense(num_classes,activation='softmax'))\n",
        "\n",
        "model.compile(loss=tensorflow.keras.losses.categorical_crossentropy,optimizer = tensorflow.keras.optimizers.Adadelta(),metrics=['accuracy'])\n",
        "model.fit(x_train, y_train,\n",
        "          batch_size=batch_size,\n",
        "          epochs=epochs,\n",
        "          verbose=1,\n",
        "          validation_data=(x_test, y_test))\n",
        "score = model.evaluate(x_test, y_test, verbose=0)\n",
        "print('Test loss:', score[0])\n",
        "print('Test accuracy:', score[1])"
      ],
      "execution_count": 15,
      "outputs": [
        {
          "output_type": "stream",
          "text": [
            "Epoch 1/12\n",
            "469/469 [==============================] - 5s 10ms/step - loss: 2.2923 - accuracy: 0.1396 - val_loss: 2.2658 - val_accuracy: 0.2896\n",
            "Epoch 2/12\n",
            "469/469 [==============================] - 5s 10ms/step - loss: 2.2505 - accuracy: 0.2480 - val_loss: 2.2174 - val_accuracy: 0.4344\n",
            "Epoch 3/12\n",
            "469/469 [==============================] - 5s 10ms/step - loss: 2.1992 - accuracy: 0.3472 - val_loss: 2.1537 - val_accuracy: 0.5548\n",
            "Epoch 4/12\n",
            "469/469 [==============================] - 5s 10ms/step - loss: 2.1316 - accuracy: 0.4264 - val_loss: 2.0649 - val_accuracy: 0.6371\n",
            "Epoch 5/12\n",
            "469/469 [==============================] - 5s 10ms/step - loss: 2.0362 - accuracy: 0.4845 - val_loss: 1.9424 - val_accuracy: 0.6844\n",
            "Epoch 6/12\n",
            "469/469 [==============================] - 5s 10ms/step - loss: 1.9070 - accuracy: 0.5304 - val_loss: 1.7790 - val_accuracy: 0.7221\n",
            "Epoch 7/12\n",
            "469/469 [==============================] - 5s 10ms/step - loss: 1.7459 - accuracy: 0.5682 - val_loss: 1.5782 - val_accuracy: 0.7503\n",
            "Epoch 8/12\n",
            "469/469 [==============================] - 5s 10ms/step - loss: 1.5650 - accuracy: 0.6033 - val_loss: 1.3633 - val_accuracy: 0.7719\n",
            "Epoch 9/12\n",
            "469/469 [==============================] - 5s 10ms/step - loss: 1.3953 - accuracy: 0.6286 - val_loss: 1.1678 - val_accuracy: 0.7930\n",
            "Epoch 10/12\n",
            "469/469 [==============================] - 5s 10ms/step - loss: 1.2460 - accuracy: 0.6563 - val_loss: 1.0087 - val_accuracy: 0.8074\n",
            "Epoch 11/12\n",
            "469/469 [==============================] - 5s 10ms/step - loss: 1.1310 - accuracy: 0.6753 - val_loss: 0.8873 - val_accuracy: 0.8186\n",
            "Epoch 12/12\n",
            "469/469 [==============================] - 5s 10ms/step - loss: 1.0384 - accuracy: 0.6934 - val_loss: 0.7955 - val_accuracy: 0.8277\n",
            "Test loss: 0.7976314425468445\n",
            "Test accuracy: 0.8277000188827515\n"
          ],
          "name": "stdout"
        }
      ]
    },
    {
      "cell_type": "code",
      "metadata": {
        "id": "o2ns1t5w3bA4",
        "colab_type": "code",
        "colab": {
          "base_uri": "https://localhost:8080/",
          "height": 54
        },
        "outputId": "9f0c3418-92c7-431d-a1c8-079533c39b59"
      },
      "source": [
        "print(model.get_config())"
      ],
      "execution_count": 16,
      "outputs": [
        {
          "output_type": "stream",
          "text": [
            "{'name': 'sequential_2', 'layers': [{'class_name': 'Conv2D', 'config': {'name': 'conv2d_3', 'trainable': True, 'batch_input_shape': (None, 28, 28, 1), 'dtype': 'float32', 'filters': 32, 'kernel_size': (3, 3), 'strides': (1, 1), 'padding': 'valid', 'data_format': 'channels_last', 'dilation_rate': (1, 1), 'activation': 'relu', 'use_bias': True, 'kernel_initializer': {'class_name': 'GlorotUniform', 'config': {'seed': None}}, 'bias_initializer': {'class_name': 'Zeros', 'config': {}}, 'kernel_regularizer': None, 'bias_regularizer': None, 'activity_regularizer': None, 'kernel_constraint': None, 'bias_constraint': None}}, {'class_name': 'Conv2D', 'config': {'name': 'conv2d_4', 'trainable': True, 'dtype': 'float32', 'filters': 64, 'kernel_size': (3, 3), 'strides': (1, 1), 'padding': 'valid', 'data_format': 'channels_last', 'dilation_rate': (1, 1), 'activation': 'relu', 'use_bias': True, 'kernel_initializer': {'class_name': 'GlorotUniform', 'config': {'seed': None}}, 'bias_initializer': {'class_name': 'Zeros', 'config': {}}, 'kernel_regularizer': None, 'bias_regularizer': None, 'activity_regularizer': None, 'kernel_constraint': None, 'bias_constraint': None}}, {'class_name': 'MaxPooling2D', 'config': {'name': 'max_pooling2d_1', 'trainable': True, 'dtype': 'float32', 'pool_size': (2, 2), 'padding': 'valid', 'strides': (2, 2), 'data_format': 'channels_last'}}, {'class_name': 'Dropout', 'config': {'name': 'dropout_2', 'trainable': True, 'dtype': 'float32', 'rate': 0.25, 'noise_shape': None, 'seed': None}}, {'class_name': 'Flatten', 'config': {'name': 'flatten_1', 'trainable': True, 'dtype': 'float32', 'data_format': 'channels_last'}}, {'class_name': 'Dense', 'config': {'name': 'dense_2', 'trainable': True, 'dtype': 'float32', 'units': 128, 'activation': 'relu', 'use_bias': True, 'kernel_initializer': {'class_name': 'GlorotUniform', 'config': {'seed': None}}, 'bias_initializer': {'class_name': 'Zeros', 'config': {}}, 'kernel_regularizer': None, 'bias_regularizer': None, 'activity_regularizer': None, 'kernel_constraint': None, 'bias_constraint': None}}, {'class_name': 'Dropout', 'config': {'name': 'dropout_3', 'trainable': True, 'dtype': 'float32', 'rate': 0.5, 'noise_shape': None, 'seed': None}}, {'class_name': 'Dense', 'config': {'name': 'dense_3', 'trainable': True, 'dtype': 'float32', 'units': 10, 'activation': 'softmax', 'use_bias': True, 'kernel_initializer': {'class_name': 'GlorotUniform', 'config': {'seed': None}}, 'bias_initializer': {'class_name': 'Zeros', 'config': {}}, 'kernel_regularizer': None, 'bias_regularizer': None, 'activity_regularizer': None, 'kernel_constraint': None, 'bias_constraint': None}}], 'build_input_shape': TensorShape([None, 28, 28, 1])}\n"
          ],
          "name": "stdout"
        }
      ]
    },
    {
      "cell_type": "code",
      "metadata": {
        "id": "bjyC8FAX3iRA",
        "colab_type": "code",
        "colab": {
          "base_uri": "https://localhost:8080/",
          "height": 54
        },
        "outputId": "816de92c-78c0-42b3-f1d1-812232e98831"
      },
      "source": [
        "print(model.layers[0].get_config())"
      ],
      "execution_count": 17,
      "outputs": [
        {
          "output_type": "stream",
          "text": [
            "{'name': 'conv2d_3', 'trainable': True, 'batch_input_shape': (None, 28, 28, 1), 'dtype': 'float32', 'filters': 32, 'kernel_size': (3, 3), 'strides': (1, 1), 'padding': 'valid', 'data_format': 'channels_last', 'dilation_rate': (1, 1), 'activation': 'relu', 'use_bias': True, 'kernel_initializer': {'class_name': 'GlorotUniform', 'config': {'seed': None}}, 'bias_initializer': {'class_name': 'Zeros', 'config': {}}, 'kernel_regularizer': None, 'bias_regularizer': None, 'activity_regularizer': None, 'kernel_constraint': None, 'bias_constraint': None}\n"
          ],
          "name": "stdout"
        }
      ]
    },
    {
      "cell_type": "code",
      "metadata": {
        "id": "p7cjbI6n4zXe",
        "colab_type": "code",
        "colab": {
          "base_uri": "https://localhost:8080/",
          "height": 34
        },
        "outputId": "47eaa42a-9f77-4451-e3eb-c2878131a5ca"
      },
      "source": [
        "print(model.layers[0].count_params())"
      ],
      "execution_count": 18,
      "outputs": [
        {
          "output_type": "stream",
          "text": [
            "320\n"
          ],
          "name": "stdout"
        }
      ]
    },
    {
      "cell_type": "code",
      "metadata": {
        "id": "pc5RQJKC5E9N",
        "colab_type": "code",
        "colab": {
          "base_uri": "https://localhost:8080/",
          "height": 151
        },
        "outputId": "a7fe34aa-e4cc-4af4-bd5b-6700eae49612"
      },
      "source": [
        "print(model.layers[0].get_weights()[1])"
      ],
      "execution_count": 28,
      "outputs": [
        {
          "output_type": "stream",
          "text": [
            "[ 1.5689280e-03  8.3158784e-07  4.1272058e-03  3.0405277e-03\n",
            "  4.7844150e-03 -7.4682833e-04  1.8181959e-06 -8.9483790e-04\n",
            " -4.0582300e-08 -8.3252411e-07 -2.2453982e-08  4.7753132e-03\n",
            "  1.1238222e-06 -1.4111551e-03  6.9065194e-04  2.5673446e-05\n",
            "  3.5706533e-03  2.9772907e-03  6.5693422e-03  1.4520012e-04\n",
            "  1.8788163e-06  2.2273869e-03  1.9912601e-03  8.7168324e-04\n",
            "  1.6117359e-07 -3.1917257e-04 -1.0045244e-06  8.9573427e-05\n",
            " -4.4008675e-03  3.9907363e-03  3.8034483e-03  5.9180070e-07]\n"
          ],
          "name": "stdout"
        }
      ]
    },
    {
      "cell_type": "code",
      "metadata": {
        "id": "JLDHevAA6yFS",
        "colab_type": "code",
        "colab": {
          "base_uri": "https://localhost:8080/",
          "height": 1000
        },
        "outputId": "0fea6d79-c317-4a5b-d474-81908b52c6da"
      },
      "source": [
        "print(model.layers[0].get_weights()[0])"
      ],
      "execution_count": 29,
      "outputs": [
        {
          "output_type": "stream",
          "text": [
            "[[[[-3.79928015e-02  6.75521567e-02  5.26441857e-02 -7.95694515e-02\n",
            "    -2.83678677e-02 -6.72709793e-02  1.08835004e-01 -1.75691117e-02\n",
            "     5.07972352e-02  8.88432264e-02 -1.89203657e-02 -8.00803304e-02\n",
            "     3.53516825e-02  2.34861281e-02 -9.52695832e-02 -6.50199205e-02\n",
            "    -1.37977218e-02 -7.64311552e-02  1.19718917e-01 -1.12711042e-02\n",
            "     9.27836597e-02 -1.09222375e-01 -9.91044939e-02 -5.21563999e-02\n",
            "    -2.20885240e-02 -6.77103251e-02  1.54289147e-02  3.13147865e-02\n",
            "    -1.10042796e-01  1.01408832e-01 -1.03939712e-01  8.96415710e-02]]\n",
            "\n",
            "  [[ 1.03283450e-02 -1.35526747e-01  1.33098334e-01 -5.72040118e-02\n",
            "    -9.38712582e-02  2.39753947e-02  3.85582410e-02  1.39174029e-01\n",
            "     1.68850556e-01  7.59699941e-02 -5.86834252e-02 -9.66946110e-02\n",
            "    -8.17925334e-02  3.57830636e-02  1.59904957e-01  4.15670350e-02\n",
            "     1.58813894e-02  1.94491670e-02  1.68499306e-01 -1.46346232e-02\n",
            "    -7.58894831e-02  6.76597878e-02  5.32359397e-03 -1.71122178e-02\n",
            "    -2.04653665e-02 -2.39918549e-02 -5.96552715e-02  5.96237481e-02\n",
            "    -8.37437212e-02 -9.64462459e-02 -3.71989422e-02 -1.32745266e-01]]\n",
            "\n",
            "  [[ 1.54053226e-01  4.23689075e-02  6.46065036e-03 -5.47725819e-02\n",
            "    -1.26339778e-01  9.43302959e-02 -1.11525737e-01 -3.82457450e-02\n",
            "     1.08471014e-01 -1.33160904e-01  1.22420885e-01  1.39054313e-01\n",
            "    -1.12867251e-01  4.34276722e-02  1.64239332e-02 -5.57128787e-02\n",
            "     1.99267436e-02  3.95676307e-02  3.53297032e-02 -5.76939760e-03\n",
            "    -3.30015365e-03 -4.17574942e-02  2.05517586e-04  7.05109537e-02\n",
            "    -6.26802631e-03 -4.66309525e-02 -5.07122874e-02  9.97165293e-02\n",
            "     4.45287712e-02 -9.30018499e-02  8.78074020e-02 -6.24354333e-02]]]\n",
            "\n",
            "\n",
            " [[[ 1.39214635e-01  9.51878801e-02 -1.19319640e-01 -3.01179774e-02\n",
            "     3.38030681e-02 -1.28216386e-01  4.91549596e-02 -6.45620003e-02\n",
            "     4.85583767e-02 -6.79595917e-02  6.04920834e-02  2.71475632e-02\n",
            "     1.25045359e-01 -1.18638627e-01  1.93162784e-02  1.49980038e-01\n",
            "    -5.62575869e-02 -5.45770973e-02  5.39401360e-02 -2.92475969e-02\n",
            "     1.54594466e-01 -7.41848573e-02  6.93175048e-02  1.27470586e-02\n",
            "     1.40860915e-01 -6.13866746e-02 -2.97932439e-02 -1.14617229e-01\n",
            "     9.91417468e-02  1.24599524e-01  9.50352922e-02  1.00249901e-01]]\n",
            "\n",
            "  [[ 1.60740539e-01  1.16552532e-01 -1.49413832e-02  7.46912509e-02\n",
            "    -1.37813792e-01  2.98487023e-02 -1.00686457e-02  7.86000397e-03\n",
            "     5.52429669e-02 -8.29859599e-02 -1.51355341e-02 -6.93550333e-02\n",
            "     1.01584181e-01 -8.48177597e-02  1.14710316e-01 -8.76508802e-02\n",
            "    -2.73349155e-02  7.53505528e-02  9.06438828e-02  8.22235420e-02\n",
            "     1.66490465e-01  3.81292440e-02  1.27939656e-01  5.44027276e-02\n",
            "    -1.05803944e-01 -1.69194490e-02  2.84799729e-02  2.17403937e-03\n",
            "    -9.79092121e-02 -8.93726125e-02  1.81455221e-02  1.63308587e-02]]\n",
            "\n",
            "  [[-3.97714647e-03 -7.57938027e-02 -9.05399546e-02  6.40325472e-02\n",
            "     8.00319165e-02 -1.27351180e-01 -2.33630426e-02 -1.25735298e-01\n",
            "     6.45327643e-02  1.07624553e-01  1.11243710e-01  1.09992571e-01\n",
            "    -1.59789380e-02 -1.26744464e-01  1.25555843e-01 -5.16126938e-02\n",
            "    -6.28685355e-02 -8.65327753e-03 -3.19454744e-02  1.50552616e-01\n",
            "     3.68475951e-02 -1.06888518e-01 -9.83439311e-02  2.21100301e-02\n",
            "     1.58973351e-01  5.32003827e-02 -6.63815588e-02 -4.07559145e-03\n",
            "    -4.20182049e-02  6.12359829e-02  4.50007198e-03 -1.67361405e-02]]]\n",
            "\n",
            "\n",
            " [[[ 9.69958603e-02 -9.97705534e-02 -3.82310332e-04 -9.73514393e-02\n",
            "    -2.48300787e-02 -8.08332786e-02  5.18216304e-02  2.77901604e-03\n",
            "     1.30632678e-02 -7.27270171e-02 -9.22259167e-02 -1.69503633e-02\n",
            "    -1.21427573e-01 -1.30530789e-01  3.86835895e-02  1.64298490e-02\n",
            "    -1.16272718e-02 -2.90833879e-02  6.78920522e-02  1.13874584e-01\n",
            "     3.37937437e-02 -2.23209243e-02  1.61417425e-01  1.53447494e-01\n",
            "    -6.43860325e-02 -7.90363178e-02  1.52339488e-01 -5.39904051e-02\n",
            "     2.54353341e-02  1.22129336e-01 -1.37301430e-01  2.37720360e-05]]\n",
            "\n",
            "  [[ 1.93463981e-01  1.22169249e-01 -8.59002620e-02  7.26329209e-03\n",
            "     4.38180082e-02 -1.15530990e-01 -1.26454473e-01 -8.99085477e-02\n",
            "     1.03492603e-01 -2.68945154e-02 -4.68846336e-02  1.40326411e-01\n",
            "    -3.77470441e-02 -2.18685213e-02  9.60099921e-02  9.76218805e-02\n",
            "    -7.90699851e-03  6.67855665e-02  5.46027459e-02  3.29819210e-02\n",
            "    -1.01045586e-01 -1.03394866e-01  1.32310793e-01 -5.98613732e-02\n",
            "     2.93433536e-02 -7.64349848e-02  1.73003763e-01  4.37812954e-02\n",
            "    -8.81405771e-02 -2.26582848e-02 -1.02066077e-01  1.05525479e-02]]\n",
            "\n",
            "  [[-5.99706434e-02 -1.15383282e-01 -1.74169298e-02  9.66086611e-02\n",
            "    -1.37787849e-01 -4.17048857e-02 -7.20115155e-02  1.82393733e-02\n",
            "     4.85423990e-02  1.18687965e-01 -1.04096174e-01  6.24711812e-02\n",
            "     1.50299489e-01 -2.65967939e-03  1.65008470e-01 -2.40693893e-02\n",
            "    -1.05765924e-01  7.71752521e-02 -1.31963179e-01  1.49593964e-01\n",
            "    -2.63131615e-02 -1.20648846e-01 -8.50195363e-02 -4.60307673e-03\n",
            "     1.36555374e-01 -4.86769527e-02  1.27086386e-01 -7.30423927e-02\n",
            "    -3.91665138e-02 -1.67681277e-02 -4.18717489e-02 -9.78114679e-02]]]]\n"
          ],
          "name": "stdout"
        }
      ]
    },
    {
      "cell_type": "code",
      "metadata": {
        "id": "5Wgp0f1279uh",
        "colab_type": "code",
        "colab": {}
      },
      "source": [
        "# visualizing intermediate layers\n",
        "\n",
        "output_layer = model.layers[1].get_output()\n",
        "output_fn = theano.function([model.layers[0].get_input()], output_layer)\n",
        "\n",
        "# the input image\n",
        "\n",
        "input_image=X_train[0:1,:,:,:]\n",
        "print(input_image.shape)\n",
        "\n",
        "plt.imshow(input_image[0,0,:,:],cmap ='gray')\n",
        "plt.imshow(input_image[0,0,:,:])\n",
        "\n",
        "\n",
        "output_image = output_fn(input_image)\n",
        "print(output_image.shape)\n",
        "\n",
        "# Rearrange dimension so we can plot the result \n",
        "output_image = np.rollaxis(np.rollaxis(output_image, 3, 1), 3, 1)\n",
        "print(output_image.shape)\n",
        "\n",
        "\n",
        "fig=plt.figure(figsize=(8,8))\n",
        "for i in range(32):\n",
        "    ax = fig.add_subplot(6, 6, i+1)\n",
        "    #ax.imshow(output_image[0,:,:,i],interpolation='nearest' ) #to see the first filter\n",
        "    ax.imshow(output_image[0,:,:,i],cmap=matplotlib.cm.gray)\n",
        "    plt.xticks(np.array([]))\n",
        "    plt.yticks(np.array([]))\n",
        "    plt.tight_layout()\n",
        "plt"
      ],
      "execution_count": 0,
      "outputs": []
    }
  ]
}